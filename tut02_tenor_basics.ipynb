{
 "cells": [
  {
   "cell_type": "code",
   "execution_count": 21,
   "metadata": {},
   "outputs": [],
   "source": [
    "import torch\n",
    "import numpy as np"
   ]
  },
  {
   "cell_type": "code",
   "execution_count": 9,
   "metadata": {},
   "outputs": [
    {
     "name": "stdout",
     "output_type": "stream",
     "text": [
      "tensor([[6.8984e-07, 2.0451e+23, 5.2356e+22],\n",
      "        [1.3167e-08, 4.0105e-11, 7.1450e+31]])\n",
      "tensor([[0.7386, 0.1621],\n",
      "        [0.8907, 0.7988]])\n",
      "tensor([[0., 0.],\n",
      "        [0., 0.]])\n",
      "tensor([[1., 1.],\n",
      "        [1., 1.]])\n",
      "tensor([[1, 1],\n",
      "        [1, 1]])\n",
      "tensor([2.5000, 5.0000])\n"
     ]
    }
   ],
   "source": [
    "x = torch.empty(2,3)\n",
    "print(x)\n",
    "x = torch.rand(2, 2)\n",
    "print(x)\n",
    "x = torch.zeros(2, 2)\n",
    "print(x)\n",
    "x = torch.ones(2, 2)\n",
    "print(x)\n",
    "x = torch.ones(2, 2, dtype=int)\n",
    "print(x)\n",
    "x = torch.tensor([2.5, 5])\n",
    "print(x)"
   ]
  },
  {
   "cell_type": "code",
   "execution_count": 13,
   "metadata": {},
   "outputs": [
    {
     "name": "stdout",
     "output_type": "stream",
     "text": [
      "x = tensor([[0.1614, 0.6472],\n",
      "        [0.0427, 0.6820]])\n",
      "y = tensor([[0.7286, 0.1800],\n",
      "        [0.8691, 0.2972]])\n",
      "tensor([[0.8900, 0.8272],\n",
      "        [0.9118, 0.9792]])\n",
      "y = tensor([[0.8900, 0.8272],\n",
      "        [0.9118, 0.9792]])\n"
     ]
    }
   ],
   "source": [
    "x = torch.rand(2, 2)\n",
    "y = torch.rand(2, 2)\n",
    "\n",
    "print(f'x = {x}')\n",
    "print(f'y = {y}')\n",
    "\n",
    "## element wise + - * /\n",
    "z = x+y; print(z)\n",
    "y.add_(x); print(f'y = {y}')"
   ]
  },
  {
   "cell_type": "code",
   "execution_count": 17,
   "metadata": {},
   "outputs": [
    {
     "name": "stdout",
     "output_type": "stream",
     "text": [
      "tensor([[0.3783, 0.2054, 0.0563],\n",
      "        [0.5547, 0.7158, 0.2765],\n",
      "        [0.4358, 0.6269, 0.3676],\n",
      "        [0.9273, 0.9130, 0.8496],\n",
      "        [0.8604, 0.8897, 0.3726]])\n",
      "tensor([0.5547, 0.7158, 0.2765])\n",
      "0.7157912254333496\n"
     ]
    }
   ],
   "source": [
    "x = torch.rand(5, 3)\n",
    "print(x)\n",
    "print(x[1, :])\n",
    "print(x[1, 1].item())"
   ]
  },
  {
   "cell_type": "code",
   "execution_count": 20,
   "metadata": {},
   "outputs": [
    {
     "name": "stdout",
     "output_type": "stream",
     "text": [
      "x = tensor([[0.6592, 0.3086, 0.1327, 0.1970],\n",
      "        [0.5359, 0.8124, 0.4346, 0.3007],\n",
      "        [0.4051, 0.8519, 0.4880, 0.8774],\n",
      "        [0.0347, 0.8628, 0.1404, 0.9077]])\n",
      "y = tensor([[0.6592, 0.3086, 0.1327, 0.1970, 0.5359, 0.8124, 0.4346, 0.3007],\n",
      "        [0.4051, 0.8519, 0.4880, 0.8774, 0.0347, 0.8628, 0.1404, 0.9077]])\n"
     ]
    }
   ],
   "source": [
    "x = torch.rand(4, 4)\n",
    "print(f'x = {x}')\n",
    "\n",
    "y = x.view(2, 8)\n",
    "print(f'y = {y}')"
   ]
  },
  {
   "cell_type": "code",
   "execution_count": 28,
   "metadata": {},
   "outputs": [
    {
     "name": "stdout",
     "output_type": "stream",
     "text": [
      "a = tensor([1., 1., 1., 1., 1.]), type=<class 'torch.Tensor'>\n",
      "b = [1. 1. 1. 1. 1.], type=<class 'numpy.ndarray'>\n",
      "a = tensor([2., 2., 2., 2., 2.])\n",
      "b = [2. 2. 2. 2. 2.]\n",
      "a = tensor([2., 2., 2., 2., 2.])\n",
      "b = [4. 4. 4. 4. 4.]\n",
      "a = tensor([1., 1., 1., 1., 1.], dtype=torch.float64)\n",
      "b = [1. 1. 1. 1. 1.]\n",
      "a = tensor([2., 2., 2., 2., 2.], dtype=torch.float64)\n",
      "b = [2. 2. 2. 2. 2.]\n"
     ]
    }
   ],
   "source": [
    "a = torch.ones(5)\n",
    "print(f'a = {a}, type={type(a)}')\n",
    "\n",
    "b = a.numpy()\n",
    "print(f'b = {b}, type={type(b)}')\n",
    "\n",
    "\"\"\"\n",
    "If the tensor is on the cpu then both the tensor and the numpy array\n",
    "will share the same memory location. Hence the modification of the \n",
    "original (tensor or numpy array) will modify the copy in the same way.\n",
    "\"\"\"\n",
    "a.add_(1)\n",
    "print(f'a = {a}')\n",
    "print(f'b = {b}')\n",
    "\n",
    "b = b*2\n",
    "print(f'a = {a}')\n",
    "print(f'b = {b}')\n",
    "\n",
    "b = np.ones(5)\n",
    "a = torch.from_numpy(b)\n",
    "print(f'a = {a}')\n",
    "print(f'b = {b}')\n",
    "\n",
    "b+=1\n",
    "print(f'a = {a}')\n",
    "print(f'b = {b}')\n",
    "\n"
   ]
  }
 ],
 "metadata": {
  "kernelspec": {
   "display_name": "Python 3.10.5 ('VirtEnv')",
   "language": "python",
   "name": "python3"
  },
  "language_info": {
   "codemirror_mode": {
    "name": "ipython",
    "version": 3
   },
   "file_extension": ".py",
   "mimetype": "text/x-python",
   "name": "python",
   "nbconvert_exporter": "python",
   "pygments_lexer": "ipython3",
   "version": "3.10.5"
  },
  "orig_nbformat": 4,
  "vscode": {
   "interpreter": {
    "hash": "5e109918432beb16e820c88ce94a6d2def01cb89952c2791fafb28d81b6c1e0a"
   }
  }
 },
 "nbformat": 4,
 "nbformat_minor": 2
}
