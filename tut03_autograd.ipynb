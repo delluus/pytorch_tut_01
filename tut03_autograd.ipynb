{
 "cells": [
  {
   "cell_type": "code",
   "execution_count": 2,
   "metadata": {},
   "outputs": [],
   "source": [
    "import torch\n",
    "import numpy as np"
   ]
  },
  {
   "cell_type": "code",
   "execution_count": 20,
   "metadata": {},
   "outputs": [
    {
     "name": "stdout",
     "output_type": "stream",
     "text": [
      "x = tensor([ 0.8347, -1.0032, -1.3366], requires_grad=True)\n",
      "y = tensor([2.8347, 0.9968, 0.6634], grad_fn=<AddBackward0>)\n",
      "z = tensor([16.0711,  1.9874,  0.8801], grad_fn=<MulBackward0>)\n",
      "z = tensor([16.0711,  1.9874,  0.8801], grad_fn=<MulBackward0>)\n"
     ]
    }
   ],
   "source": [
    "x = torch.randn(3, requires_grad=True)\n",
    "print(f'x = {x}')\n",
    "\n",
    "y = x+2; print(f'y = {y}')\n",
    "\n",
    "z = y*y*2; print(f'z = {z}')\n",
    "# z = z.mean(); print(f'z = {z}')\n",
    "v = torch.tensor([0.1, 1., 0.001], dtype=torch.float32)\n",
    "\n",
    "z.backward(v)\n",
    "print(f'z = {z}')\n",
    "# grad_x = x.grad; print(f'grad_x = {grad_x}')\n"
   ]
  },
  {
   "cell_type": "code",
   "execution_count": 26,
   "metadata": {},
   "outputs": [
    {
     "name": "stdout",
     "output_type": "stream",
     "text": [
      "x = tensor([-0.6777, -1.2178, -1.1983], requires_grad=True)\n",
      "tensor([1.3223, 0.7822, 0.8017])\n"
     ]
    }
   ],
   "source": [
    "x = torch.randn(3, requires_grad=True)\n",
    "print(f'x = {x}')\n",
    "\n",
    "# x.requires_grad_(False)\n",
    "# y = x.detach()\n",
    "with torch.no_grad():\n",
    "    y = x+2\n",
    "    print(y)\n",
    "\n",
    "# print(f'x = {x}')\n",
    "# print(f'y = {y}')"
   ]
  },
  {
   "cell_type": "code",
   "execution_count": 31,
   "metadata": {},
   "outputs": [
    {
     "name": "stdout",
     "output_type": "stream",
     "text": [
      "tensor([3., 3., 3., 3.])\n",
      "tensor([3., 3., 3., 3.])\n",
      "tensor([3., 3., 3., 3.])\n"
     ]
    }
   ],
   "source": [
    "weights = torch.ones(4, requires_grad=True)\n",
    "\n",
    "for epoch in range(3):\n",
    "    model_output = (weights*3).sum()\n",
    "\n",
    "    model_output.backward()\n",
    "    grad = weights.grad\n",
    "\n",
    "    print(grad)\n",
    "    \n",
    "    weights.grad.zero_()"
   ]
  },
  {
   "cell_type": "code",
   "execution_count": null,
   "metadata": {},
   "outputs": [],
   "source": [
    "weights = torch.ones(4, requires_grad=True)\n",
    "\n",
    "opt = torch.optim.SGD(weights, lr=0.01)\n",
    "opt.step()\n",
    "opt.zero_grad()\n"
   ]
  }
 ],
 "metadata": {
  "kernelspec": {
   "display_name": "Python 3.10.5 ('VirtEnv')",
   "language": "python",
   "name": "python3"
  },
  "language_info": {
   "codemirror_mode": {
    "name": "ipython",
    "version": 3
   },
   "file_extension": ".py",
   "mimetype": "text/x-python",
   "name": "python",
   "nbconvert_exporter": "python",
   "pygments_lexer": "ipython3",
   "version": "3.10.5"
  },
  "orig_nbformat": 4,
  "vscode": {
   "interpreter": {
    "hash": "5e109918432beb16e820c88ce94a6d2def01cb89952c2791fafb28d81b6c1e0a"
   }
  }
 },
 "nbformat": 4,
 "nbformat_minor": 2
}
