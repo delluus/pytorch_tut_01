{
 "cells": [
  {
   "cell_type": "code",
   "execution_count": 2,
   "metadata": {},
   "outputs": [],
   "source": [
    "import torch\n",
    "import numpy as np\n"
   ]
  },
  {
   "cell_type": "code",
   "execution_count": 5,
   "metadata": {},
   "outputs": [
    {
     "name": "stdout",
     "output_type": "stream",
     "text": [
      "tensor([1.], grad_fn=<PowBackward0>)\n",
      "w_grad = tensor([-2.])\n"
     ]
    }
   ],
   "source": [
    "x = torch.tensor([1.0])\n",
    "y = torch.tensor([2.0])\n",
    "\n",
    "w = torch.tensor([1.0], requires_grad=True)\n",
    "\n",
    "## forward pass ##\n",
    "y_hat = w*x\n",
    "loss  = (y_hat - y)**2\n",
    "\n",
    "print(loss)\n",
    "\n",
    "## backward pass ##\n",
    "loss.backward()\n",
    "print(f\"w_grad = {w.grad}\")\n"
   ]
  }
 ],
 "metadata": {
  "kernelspec": {
   "display_name": "Python 3.10.5 ('VirtEnv')",
   "language": "python",
   "name": "python3"
  },
  "language_info": {
   "codemirror_mode": {
    "name": "ipython",
    "version": 3
   },
   "file_extension": ".py",
   "mimetype": "text/x-python",
   "name": "python",
   "nbconvert_exporter": "python",
   "pygments_lexer": "ipython3",
   "version": "3.10.5"
  },
  "orig_nbformat": 4,
  "vscode": {
   "interpreter": {
    "hash": "5e109918432beb16e820c88ce94a6d2def01cb89952c2791fafb28d81b6c1e0a"
   }
  }
 },
 "nbformat": 4,
 "nbformat_minor": 2
}
