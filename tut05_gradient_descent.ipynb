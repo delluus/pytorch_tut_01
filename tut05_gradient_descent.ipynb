{
 "cells": [
  {
   "cell_type": "code",
   "execution_count": 1,
   "metadata": {},
   "outputs": [],
   "source": [
    "import torch\n",
    "import numpy as np"
   ]
  },
  {
   "cell_type": "code",
   "execution_count": 4,
   "metadata": {},
   "outputs": [
    {
     "name": "stdout",
     "output_type": "stream",
     "text": [
      "pred_before_train: f(5) = 0.000\n",
      "epoch 1: w = 1.200, loss = 30.00000000\n",
      "epoch 2: w = 1.680, loss = 4.79999924\n",
      "epoch 3: w = 1.872, loss = 0.76800019\n",
      "epoch 4: w = 1.949, loss = 0.12288000\n",
      "epoch 5: w = 1.980, loss = 0.01966083\n",
      "epoch 6: w = 1.992, loss = 0.00314574\n",
      "epoch 7: w = 1.997, loss = 0.00050331\n",
      "epoch 8: w = 1.999, loss = 0.00008053\n",
      "epoch 9: w = 1.999, loss = 0.00001288\n",
      "epoch 10: w = 2.000, loss = 0.00000206\n",
      "pred_after_train: f(5) = 9.999\n"
     ]
    }
   ],
   "source": [
    "X = np.array([1, 2, 3, 4], dtype=np.float32)\n",
    "Y = np.array([2, 4, 6, 8], dtype=np.float32)\n",
    "\n",
    "w = 0.0\n",
    "\n",
    "## model pred \n",
    "def forward(x):\n",
    "    return w*x\n",
    "\n",
    "## loss\n",
    "def loss(y, y_pred):\n",
    "    return ((y_pred - y)**2).mean()\n",
    "\n",
    "## grad\n",
    "# MSE = 1/N * (w*x - y)**2\n",
    "# dJ/dw = 1/N * 2*x (w*x - y)\n",
    "def grad(x, y, y_pred):\n",
    "    return np.dot(2*x, y_pred - y).mean()\n",
    "\n",
    "print(f'pred_before_train: f(5) = {forward(5):.3f}')\n",
    "\n",
    "## training\n",
    "learning_rate = 0.01\n",
    "n_iter = 10\n",
    "\n",
    "for epoch in range(n_iter):\n",
    "    # pred #\n",
    "    y_pred = forward(X)\n",
    "\n",
    "    # loss\n",
    "    l = loss(Y, y_pred)\n",
    "\n",
    "    # grad \n",
    "    dw = grad(X, Y, y_pred)\n",
    "\n",
    "    # update \n",
    "    w -= learning_rate *dw\n",
    "\n",
    "    if epoch%1 == 0:\n",
    "        print(f'epoch {epoch+1}: w = {w:.3f}, loss = {l:.8f}')\n",
    "\n",
    "print(f'pred_after_train: f(5) = {forward(5):.3f}')\n",
    "    "
   ]
  },
  {
   "cell_type": "code",
   "execution_count": 23,
   "metadata": {},
   "outputs": [
    {
     "name": "stdout",
     "output_type": "stream",
     "text": [
      "pred_before_train: f(5) = 0.0\n",
      "epoch 1: w = 0.29999998211860657, loss = 30.0\n",
      "epoch 11: w = 1.6653136014938354, loss = 1.1627856492996216\n",
      "epoch 21: w = 1.934108853340149, loss = 0.0450688973069191\n",
      "epoch 31: w = 1.987027645111084, loss = 0.0017468547448515892\n",
      "epoch 41: w = 1.9974461793899536, loss = 6.770494655938819e-05\n",
      "epoch 51: w = 1.9994971752166748, loss = 2.6243997126584873e-06\n",
      "epoch 61: w = 1.9999010562896729, loss = 1.0175587306093803e-07\n",
      "epoch 71: w = 1.9999804496765137, loss = 3.9741685498029256e-09\n",
      "epoch 81: w = 1.999996304512024, loss = 1.4670220593870908e-10\n",
      "epoch 91: w = 1.9999992847442627, loss = 5.076827847005916e-12\n",
      "pred_after_train: f(5) = 9.999998092651367\n"
     ]
    }
   ],
   "source": [
    "X = torch.tensor([1, 2, 3, 4], dtype=torch.float32)\n",
    "Y = torch.tensor([2, 4, 6, 8], dtype=torch.float32)\n",
    "\n",
    "w = torch.tensor(0.0, dtype=torch.float32, requires_grad=True)\n",
    "\n",
    "## model pred \n",
    "def forward(x):\n",
    "    return w*x\n",
    "\n",
    "## loss\n",
    "def loss(y, y_pred):\n",
    "    return ((y_pred - y)**2).mean()\n",
    "\n",
    "print(f'pred_before_train: f(5) = {forward(5)}')\n",
    "\n",
    "## training\n",
    "learning_rate = 0.01\n",
    "n_iter = 100\n",
    "\n",
    "for epoch in range(n_iter):\n",
    "    # pred #\n",
    "    y_pred = forward(X)\n",
    "\n",
    "    # loss\n",
    "    l = loss(Y, y_pred)\n",
    "\n",
    "    # grad = backward pass\n",
    "    l.backward()    \n",
    "\n",
    "    # update \n",
    "    with torch.no_grad():\n",
    "        w -= learning_rate *w.grad\n",
    "\n",
    "    # zero grad\n",
    "    w.grad.zero_()\n",
    "    \n",
    "    if epoch%10 == 0:\n",
    "        print(f'epoch {epoch+1}: w = {w}, loss = {l}')\n",
    "\n",
    "print(f'pred_after_train: f(5) = {forward(5)}')\n",
    "    "
   ]
  }
 ],
 "metadata": {
  "kernelspec": {
   "display_name": "Python 3.10.5 ('VirtEnv')",
   "language": "python",
   "name": "python3"
  },
  "language_info": {
   "codemirror_mode": {
    "name": "ipython",
    "version": 3
   },
   "file_extension": ".py",
   "mimetype": "text/x-python",
   "name": "python",
   "nbconvert_exporter": "python",
   "pygments_lexer": "ipython3",
   "version": "3.10.5"
  },
  "orig_nbformat": 4,
  "vscode": {
   "interpreter": {
    "hash": "5e109918432beb16e820c88ce94a6d2def01cb89952c2791fafb28d81b6c1e0a"
   }
  }
 },
 "nbformat": 4,
 "nbformat_minor": 2
}
