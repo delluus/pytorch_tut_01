{
 "cells": [
  {
   "cell_type": "code",
   "execution_count": 1,
   "metadata": {},
   "outputs": [],
   "source": [
    "import torch, numpy as np, torch.nn as nn, matplotlib.pyplot as plt\n",
    "from sklearn import datasets"
   ]
  },
  {
   "cell_type": "code",
   "execution_count": 2,
   "metadata": {},
   "outputs": [
    {
     "name": "stdout",
     "output_type": "stream",
     "text": [
      "torch.Size([100, 1])\n",
      "epoch_10, loss=4297.685\n",
      "epoch_20, loss=3207.479\n",
      "epoch_30, loss=2418.927\n",
      "epoch_40, loss=1847.941\n",
      "epoch_50, loss=1434.075\n",
      "epoch_60, loss=1133.812\n",
      "epoch_70, loss=915.781\n",
      "epoch_80, loss=757.336\n",
      "epoch_90, loss=642.106\n",
      "epoch_100, loss=558.250\n"
     ]
    },
    {
     "data": {
      "image/png": "[encoded data removed]",
      "text/plain": [
       "<Figure size 432x288 with 1 Axes>"
      ]
     },
     "metadata": {
      "needs_background": "light"
     },
     "output_type": "display_data"
    }
   ],
   "source": [
    "# 1) Design model (inp_size, out_sie, forward_pass)\n",
    "# 2) Construct loss and opt\n",
    "# 3) Training loop\n",
    "#       - forward pass: compute prediction\n",
    "#       - backward pass: gradients 1\n",
    "#       - update weights\n",
    "\n",
    "\n",
    "## 0) prepare data ##\n",
    "X_numpy, y_numpy = datasets.make_regression(n_samples=100, n_features=1, noise=20, random_state=1)\n",
    "\n",
    "X = torch.from_numpy(X_numpy.astype(np.float32))\n",
    "Y = torch.from_numpy(y_numpy.astype(np.float32))\n",
    "y = Y.view(Y.shape[0], 1)\n",
    "\n",
    "n_samples, n_features = X.shape; print(X.shape)\n",
    "\n",
    "## 1) model ##\n",
    "inp_size, out_size = n_features, 1\n",
    "model = nn.Linear(inp_size, out_size)\n",
    "\n",
    "## 2) loss and opt ##\n",
    "learning_rate = 0.01\n",
    "criterion = nn.MSELoss()\n",
    "optimiser = torch.optim.SGD(model.parameters(), lr=learning_rate)\n",
    "\n",
    "## 3) training loop ##\n",
    "num_epochs = 100\n",
    "for epoch in range(num_epochs):\n",
    "    # forward and loss\n",
    "    y_pred = model(X)\n",
    "    loss   = criterion(y_pred, y)\n",
    "\n",
    "    # backward\n",
    "    loss.backward()\n",
    "\n",
    "    # update\n",
    "    optimiser.step()\n",
    "\n",
    "    optimiser.zero_grad()\n",
    "\n",
    "    if (epoch+1)%10 == 0:\n",
    "        print(f'epoch_{epoch+1}, loss={loss.item():.3f}')\n",
    "\n",
    "# plot #\n",
    "pred = model(X).detach().numpy()\n",
    "\n",
    "# %matplotlib qt\n",
    "plt.plot(X_numpy, y_numpy, 'r.', label='data')\n",
    "plt.plot(X_numpy, pred, 'bo', label='pred')\n",
    "plt.grid()\n",
    "plt.legend\n",
    "plt.show()"
   ]
  }
 ],
 "metadata": {
  "kernelspec": {
   "display_name": "Python 3.10.5 ('VirtEnv')",
   "language": "python",
   "name": "python3"
  },
  "language_info": {
   "codemirror_mode": {
    "name": "ipython",
    "version": 3
   },
   "file_extension": ".py",
   "mimetype": "text/x-python",
   "name": "python",
   "nbconvert_exporter": "python",
   "pygments_lexer": "ipython3",
   "version": "3.10.5"
  },
  "orig_nbformat": 4,
  "vscode": {
   "interpreter": {
    "hash": "5e109918432beb16e820c88ce94a6d2def01cb89952c2791fafb28d81b6c1e0a"
   }
  }
 },
 "nbformat": 4,
 "nbformat_minor": 2
}
