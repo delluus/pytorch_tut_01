{
 "cells": [
  {
   "cell_type": "code",
   "execution_count": 2,
   "metadata": {},
   "outputs": [],
   "source": [
    "import torch, numpy as np, torch.nn as nn, matplotlib.pyplot as plt\n",
    "from sklearn import datasets\n",
    "from sklearn.preprocessing import StandardScaler\n",
    "from sklearn.model_selection import train_test_split\n"
   ]
  },
  {
   "cell_type": "code",
   "execution_count": 24,
   "metadata": {},
   "outputs": [
    {
     "name": "stdout",
     "output_type": "stream",
     "text": [
      "n_samples  = 569\n",
      "n_features = 30\n",
      "epoch_100, loss=0.1834\n",
      "epoch_200, loss=0.1346\n",
      "epoch_300, loss=0.1135\n",
      "epoch_400, loss=0.1011\n",
      "epoch_500, loss=0.0926\n",
      "epoch_600, loss=0.0864\n",
      "epoch_700, loss=0.0816\n",
      "epoch_800, loss=0.0777\n",
      "epoch_900, loss=0.0745\n",
      "epoch_1000, loss=0.0717\n",
      "acc = 0.9386\n"
     ]
    }
   ],
   "source": [
    "# 1) Design model (inp_size, out_sie, forward_pass)\n",
    "# 2) Construct loss and opt\n",
    "# 3) Training loop\n",
    "#       - forward pass: compute prediction\n",
    "#       - backward pass: gradients 1\n",
    "#       - update weights\n",
    "\n",
    "\n",
    "# 0) prepare data\n",
    "bc = datasets.load_breast_cancer()\n",
    "X, y = bc.data, bc.target\n",
    "\n",
    "n_sample, n_features = X.shape\n",
    "print(f'n_samples  = {n_sample}\\nn_features = {n_features}')\n",
    "\n",
    "X_train, X_test, y_train, y_test = train_test_split(X, y, test_size=0.2, random_state=1234)\n",
    "\n",
    "sc = StandardScaler()\n",
    "X_train = sc.fit_transform(X_train)\n",
    "X_test  = sc.transform(X_test)\n",
    "\n",
    "X_train = torch.from_numpy(X_train.astype(np.float32))\n",
    "X_test = torch.from_numpy(X_test.astype(np.float32))\n",
    "y_train = torch.from_numpy(y_train.astype(np.float32))\n",
    "y_test = torch.from_numpy(y_test.astype(np.float32))\n",
    "\n",
    "y_train = y_train.view(y_train.shape[0], 1)\n",
    "y_test = y_test.view(y_test.shape[0], 1)\n",
    "\n",
    "# 1) model \n",
    "class Logistic_regrestion(nn.Module):\n",
    "    def __init__(self, n_input_features):\n",
    "        super(Logistic_regrestion, self).__init__()\n",
    "        self.linear = nn.Linear(n_input_features, 1)\n",
    "\n",
    "    def forward(self, x):\n",
    "        y_pred = torch.sigmoid(self.linear(x))\n",
    "        return y_pred\n",
    "\n",
    "model = Logistic_regrestion(n_features)\n",
    "\n",
    "# 2) loss and opt\n",
    "learning_rate = 0.02\n",
    "criterion = nn.BCELoss()\n",
    "optimiser = torch.optim.SGD(model.parameters(), lr=learning_rate)\n",
    "\n",
    "# 3) training loop\n",
    "n_epochs = 1000\n",
    "for epoch in range(n_epochs):\n",
    "    # forward pass and loss\n",
    "    y_pred = model(X_train)\n",
    "    loss   = criterion(y_pred, y_train)\n",
    "\n",
    "    # backward pass\n",
    "    loss.backward()\n",
    "\n",
    "    # updates\n",
    "    optimiser.step()\n",
    "\n",
    "    # empty grad\n",
    "    optimiser.zero_grad()\n",
    "\n",
    "    if (epoch+1)%100 == 0:\n",
    "        print(f'epoch_{epoch+1}, loss={loss.item():.4f}')\n",
    "\n",
    "\n",
    "with torch.no_grad():\n",
    "    y_pred = model(X_test)\n",
    "    y_pred_classes = y_pred.round()\n",
    "    acc = y_pred_classes.eq(y_test).sum() / y_test.shape[0]\n",
    "    print(f'acc = {acc:.4f}')\n",
    "    \n",
    "# 4) plot"
   ]
  }
 ],
 "metadata": {
  "kernelspec": {
   "display_name": "Python 3.10.5 ('VirtEnv')",
   "language": "python",
   "name": "python3"
  },
  "language_info": {
   "codemirror_mode": {
    "name": "ipython",
    "version": 3
   },
   "file_extension": ".py",
   "mimetype": "text/x-python",
   "name": "python",
   "nbconvert_exporter": "python",
   "pygments_lexer": "ipython3",
   "version": "3.10.5"
  },
  "orig_nbformat": 4,
  "vscode": {
   "interpreter": {
    "hash": "5e109918432beb16e820c88ce94a6d2def01cb89952c2791fafb28d81b6c1e0a"
   }
  }
 },
 "nbformat": 4,
 "nbformat_minor": 2
}
