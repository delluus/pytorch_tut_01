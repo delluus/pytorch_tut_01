{
 "cells": [
  {
   "cell_type": "markdown",
   "metadata": {},
   "source": [
    "- epoch:\n",
    "  - forward and backward pass of ALL training samples\n",
    "- batch_size:\n",
    "  - number of training samples in one forward and backward pass\n",
    "- num_iterations:\n",
    "  - number of passes, each pass using [batch_size] number of samples\n",
    "\n",
    "e.g. <br>\n",
    "100 samples, batch_size=20 --> 100/20 = 5 iterations for 1 epoch"
   ]
  },
  {
   "cell_type": "code",
   "execution_count": 3,
   "metadata": {},
   "outputs": [],
   "source": [
    "from torch.utils.data import Dataset, DataLoader\n",
    "import torch\n",
    "import torchvision\n",
    "import numpy as np\n",
    "import math\n",
    "from sklearn import datasets"
   ]
  },
  {
   "cell_type": "code",
   "execution_count": 103,
   "metadata": {},
   "outputs": [],
   "source": [
    "data = datasets.load_wine()\n",
    "x = np.array(data['data'], dtype=np.float32)\n",
    "y = np.array(data['target'], dtype=np.float32)\n",
    "y_mat = np.ones((len(y), 1))\n",
    "for i in range(len(y)):\n",
    "    y_mat[i] = y[i]\n",
    "y = y_mat"
   ]
  },
  {
   "cell_type": "code",
   "execution_count": 116,
   "metadata": {},
   "outputs": [
    {
     "name": "stdout",
     "output_type": "stream",
     "text": [
      "epoch_1/2, step 5/45, inputs torch.Size([4, 13])\n",
      "epoch_1/2, step 10/45, inputs torch.Size([4, 13])\n",
      "epoch_1/2, step 15/45, inputs torch.Size([4, 13])\n",
      "epoch_1/2, step 20/45, inputs torch.Size([4, 13])\n",
      "epoch_1/2, step 25/45, inputs torch.Size([4, 13])\n",
      "epoch_1/2, step 30/45, inputs torch.Size([4, 13])\n",
      "epoch_1/2, step 35/45, inputs torch.Size([4, 13])\n",
      "epoch_1/2, step 40/45, inputs torch.Size([4, 13])\n",
      "epoch_1/2, step 45/45, inputs torch.Size([2, 13])\n",
      "epoch_2/2, step 5/45, inputs torch.Size([4, 13])\n",
      "epoch_2/2, step 10/45, inputs torch.Size([4, 13])\n",
      "epoch_2/2, step 15/45, inputs torch.Size([4, 13])\n",
      "epoch_2/2, step 20/45, inputs torch.Size([4, 13])\n",
      "epoch_2/2, step 25/45, inputs torch.Size([4, 13])\n",
      "epoch_2/2, step 30/45, inputs torch.Size([4, 13])\n",
      "epoch_2/2, step 35/45, inputs torch.Size([4, 13])\n",
      "epoch_2/2, step 40/45, inputs torch.Size([4, 13])\n",
      "epoch_2/2, step 45/45, inputs torch.Size([2, 13])\n"
     ]
    }
   ],
   "source": [
    "class Wine_dataset(Dataset):\n",
    "    def __init__(self):\n",
    "        # data loading\n",
    "        self.x = torch.from_numpy(x)\n",
    "        self.y = torch.from_numpy(y)\n",
    "        self.n_samples = self.y.shape[0]\n",
    "        \n",
    "        pass\n",
    "        \n",
    "    def __getitem__(self, index):\n",
    "        # dataset[0]\n",
    "        return self.x[index], self.y[index]\n",
    " \n",
    "    def __len__(self):\n",
    "        # len(dataset)\n",
    "        return self.n_samples \n",
    "\n",
    "data_set = Wine_dataset()\n",
    "dataloader = DataLoader(dataset=data_set, batch_size=4, shuffle=True)\n",
    "\n",
    "# training loop \n",
    "num_epochs = 2\n",
    "tot_sample = len(data_set)\n",
    "num_iterat = math.ceil(tot_sample/4)\n",
    "\n",
    "# print(tot_sample, num_iterat)\n",
    "for epoch in range(num_epochs):\n",
    "    for i, (inputs, labels) in enumerate(dataloader):\n",
    "        # forward, backward, update\n",
    "        if (i+1)%5 == 0:\n",
    "            print(f'epoch_{epoch+1}/{num_epochs}, step {i+1}/{num_iterat}, inputs {inputs.shape}')\n"
   ]
  }
 ],
 "metadata": {
  "kernelspec": {
   "display_name": "Python 3.10.6 ('virtEnv')",
   "language": "python",
   "name": "python3"
  },
  "language_info": {
   "codemirror_mode": {
    "name": "ipython",
    "version": 3
   },
   "file_extension": ".py",
   "mimetype": "text/x-python",
   "name": "python",
   "nbconvert_exporter": "python",
   "pygments_lexer": "ipython3",
   "version": "3.10.6"
  },
  "orig_nbformat": 4,
  "vscode": {
   "interpreter": {
    "hash": "ec3550846fa9df7f80b88a79e83660ed89c8dfc2710c5dade5982b58967286d9"
   }
  }
 },
 "nbformat": 4,
 "nbformat_minor": 2
}
