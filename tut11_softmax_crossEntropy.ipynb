{
 "cells": [
  {
   "cell_type": "code",
   "execution_count": 1,
   "metadata": {},
   "outputs": [],
   "source": [
    "import torch\n",
    "import torch.nn as nn\n",
    "import numpy as np"
   ]
  },
  {
   "cell_type": "code",
   "execution_count": 2,
   "metadata": {},
   "outputs": [
    {
     "name": "stdout",
     "output_type": "stream",
     "text": [
      "y = [0.65900114 0.24243297 0.09856589]\n"
     ]
    }
   ],
   "source": [
    "def softmax(x):\n",
    "    return np.exp(x) / np.sum(np.exp(x), axis=0)\n",
    "\n",
    "x = np.array([2, 1, 0.1])\n",
    "y = softmax(x)\n",
    "print(f'y = {y}')"
   ]
  },
  {
   "cell_type": "code",
   "execution_count": 3,
   "metadata": {},
   "outputs": [
    {
     "name": "stdout",
     "output_type": "stream",
     "text": [
      "y = tensor([0.6590, 0.2424, 0.0986])\n"
     ]
    }
   ],
   "source": [
    "x = torch.tensor([2, 1, 0.1])\n",
    "y = torch.softmax(x, dim=0)\n",
    "print(f'y = {y}')"
   ]
  },
  {
   "cell_type": "code",
   "execution_count": 6,
   "metadata": {},
   "outputs": [
    {
     "name": "stdout",
     "output_type": "stream",
     "text": [
      "L1 = 0.3567\n",
      "L2 = 2.3026\n"
     ]
    }
   ],
   "source": [
    "def cross_entropy(y_act, y_pre):\n",
    "    loss = -np.sum(y_act * np.log(y_pre))\n",
    "    return loss\n",
    "\n",
    "Y = np.array([1, 0, 0])\n",
    "Y_g = np.array([0.7, 0.2, 0.1])\n",
    "Y_b = np.array([0.1, 0.3, 0.6])\n",
    "\n",
    "l1 = cross_entropy(Y, Y_g)\n",
    "l2 = cross_entropy(Y, Y_b)\n",
    "\n",
    "print(f'L1 = {l1:.4f}')\n",
    "print(f'L2 = {l2:.4f}')\n"
   ]
  },
  {
   "cell_type": "code",
   "execution_count": 13,
   "metadata": {},
   "outputs": [
    {
     "name": "stdout",
     "output_type": "stream",
     "text": [
      "L1 = 0.2996\n",
      "L2 = 2.0884\n",
      "p1 = tensor([2, 0, 1])\n",
      "p2 = tensor([1, 2, 0])\n"
     ]
    }
   ],
   "source": [
    "loss = nn.CrossEntropyLoss()\n",
    "\n",
    "## 3 samples ##\n",
    "Y = torch.tensor([2, 0, 1])\n",
    "Y_g = torch.tensor([[.1, 1.0, 2.1], [2.0, .5, .3], [1., 3., 0.1]])\n",
    "Y_b = torch.tensor([[0.5, 2., 0.3], [.1, 1.0, 2.1], [2.0, .5, .3]])\n",
    "\n",
    "l1 = loss(Y_g, Y)\n",
    "l2 = loss(Y_b, Y)\n",
    "\n",
    "print(f'L1 = {l1.item():.4f}')\n",
    "print(f'L2 = {l2.item():.4f}')\n",
    "\n",
    "_, predictions1 = torch.max(Y_g, 1)\n",
    "_, predictions2 = torch.max(Y_b, 1)\n",
    "\n",
    "\n",
    "print(f'p1 = {predictions1}')\n",
    "print(f'p2 = {predictions2}')\n"
   ]
  },
  {
   "cell_type": "code",
   "execution_count": 17,
   "metadata": {},
   "outputs": [],
   "source": [
    "class NeuralNet2(nn.Module):\n",
    "    def __init__(self, inp_size, hid_size, num_classes):\n",
    "        super(NeuralNet2, self).__init__()\n",
    "        self.linear1 = nn.Linear(inp_size, hid_size)\n",
    "        self.relu    = nn.ReLU()\n",
    "        self.linear2 = nn.Linear(hid_size, num_classes)\n",
    "\n",
    "    def forward(self, x):\n",
    "        out1 = self.linear1(x)\n",
    "        out2 = self.relu(out1)\n",
    "        out3 = self.linear2(out2)\n",
    "\n",
    "        return out3\n",
    "\n",
    "model = NeuralNet2(inp_size=28*28, hid_size=5, num_classes=3)\n",
    "crit  = nn.CrossEntropyLoss()\n",
    "\n",
    "\n",
    "class NeuralNet1(nn.Module):\n",
    "    def __init__(self, inp_size, hid_size):\n",
    "        super(NeuralNet1, self).__init__()\n",
    "        self.linear1 = nn.Linear(inp_size, hid_size)\n",
    "        self.relu    = nn.ReLU()\n",
    "        self.linear2 = nn.Linear(hid_size, 1)\n",
    "\n",
    "    def forward(self, x):\n",
    "        out1 = self.linear1(x)\n",
    "        out2 = self.relu(out1)\n",
    "        out3 = self.linear2(out2)\n",
    "\n",
    "        y_pred = torch.sigmoid(out3)\n",
    "        return y_pred\n",
    "\n",
    "model = NeuralNet1(inp_size=28*28, hid_size=5)\n",
    "crit  = nn.BCELoss()\n",
    "\n"
   ]
  }
 ],
 "metadata": {
  "kernelspec": {
   "display_name": "Python 3.10.6 ('virtEnv')",
   "language": "python",
   "name": "python3"
  },
  "language_info": {
   "codemirror_mode": {
    "name": "ipython",
    "version": 3
   },
   "file_extension": ".py",
   "mimetype": "text/x-python",
   "name": "python",
   "nbconvert_exporter": "python",
   "pygments_lexer": "ipython3",
   "version": "3.10.6"
  },
  "orig_nbformat": 4,
  "vscode": {
   "interpreter": {
    "hash": "ec3550846fa9df7f80b88a79e83660ed89c8dfc2710c5dade5982b58967286d9"
   }
  }
 },
 "nbformat": 4,
 "nbformat_minor": 2
}
