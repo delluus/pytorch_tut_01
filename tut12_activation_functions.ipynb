{
 "cells": [
  {
   "cell_type": "code",
   "execution_count": 1,
   "metadata": {},
   "outputs": [],
   "source": [
    "import numpy as np\n",
    "import torch\n",
    "import torch.nn as nn\n",
    "import torch.nn.functional as F"
   ]
  },
  {
   "cell_type": "code",
   "execution_count": 2,
   "metadata": {},
   "outputs": [],
   "source": [
    "class NeuralNet(nn.Module):\n",
    "    def __init__(self, inp_size, hid_size):\n",
    "        super(NeuralNet, self).__init__()\n",
    "        self.linear1 = nn.Linear(inp_size, hid_size)\n",
    "        self.relu    = nn.ReLU()\n",
    "        self.linear2 = nn.Linear(hid_size, 1)\n",
    "        self.sigmoid = nn.Sigmoid()\n",
    "\n",
    "    def forward(self, x):\n",
    "        out1 = self.linear1(x)\n",
    "        out2 = self.relu(out1)\n",
    "        out3 = self.linear2(out2)\n",
    "        out4 = self.sigmoid(out3)\n",
    "\n",
    "        return out4\n",
    "\n",
    "class NeuralNet_torch(nn.Module):\n",
    "    def __init__(self, inp_size, hid_size):\n",
    "        super(NeuralNet, self).__init__()\n",
    "        self.linear1 = nn.Linear(inp_size, hid_size)\n",
    "        self.linear2 = nn.Linear(hid_size, 1)\n",
    "\n",
    "    def forward(self, x):\n",
    "        out1 = torch.relu(self.linear1(x))\n",
    "        out2 = torch.sigmoid(self.linear2(out1))\n",
    "\n",
    "        return out2\n",
    "        \n"
   ]
  }
 ],
 "metadata": {
  "kernelspec": {
   "display_name": "Python 3.10.6 ('virtEnv')",
   "language": "python",
   "name": "python3"
  },
  "language_info": {
   "codemirror_mode": {
    "name": "ipython",
    "version": 3
   },
   "file_extension": ".py",
   "mimetype": "text/x-python",
   "name": "python",
   "nbconvert_exporter": "python",
   "pygments_lexer": "ipython3",
   "version": "3.10.6"
  },
  "orig_nbformat": 4,
  "vscode": {
   "interpreter": {
    "hash": "ec3550846fa9df7f80b88a79e83660ed89c8dfc2710c5dade5982b58967286d9"
   }
  }
 },
 "nbformat": 4,
 "nbformat_minor": 2
}
