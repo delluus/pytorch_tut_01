{
 "cells": [
  {
   "cell_type": "code",
   "execution_count": 16,
   "metadata": {},
   "outputs": [],
   "source": [
    "import torch\n",
    "import torch.nn as nn\n",
    "import torchvision\n",
    "import torchvision.transforms as transforms\n",
    "import matplotlib.pyplot as plt"
   ]
  },
  {
   "cell_type": "code",
   "execution_count": 3,
   "metadata": {},
   "outputs": [
    {
     "data": {
      "text/plain": [
       "device(type='cpu')"
      ]
     },
     "execution_count": 3,
     "metadata": {},
     "output_type": "execute_result"
    }
   ],
   "source": [
    "device = torch.device('cude' if torch.cuda.is_available() else 'cpu')\n",
    "device\n"
   ]
  },
  {
   "cell_type": "code",
   "execution_count": 25,
   "metadata": {},
   "outputs": [
    {
     "name": "stdout",
     "output_type": "stream",
     "text": [
      "torch.Size([100, 1, 28, 28]) torch.Size([100])\n",
      "epoch_1/2, step=100/600, loss=0.4004\n",
      "epoch_1/2, step=200/600, loss=0.3848\n",
      "epoch_1/2, step=300/600, loss=0.2749\n",
      "epoch_1/2, step=400/600, loss=0.3847\n",
      "epoch_1/2, step=500/600, loss=0.3816\n",
      "epoch_1/2, step=600/600, loss=0.2695\n",
      "epoch_2/2, step=100/600, loss=0.2078\n",
      "epoch_2/2, step=200/600, loss=0.1446\n",
      "epoch_2/2, step=300/600, loss=0.0961\n",
      "epoch_2/2, step=400/600, loss=0.1748\n",
      "epoch_2/2, step=500/600, loss=0.1810\n",
      "epoch_2/2, step=600/600, loss=0.2086\n",
      "acc = 94.9%\n"
     ]
    },
    {
     "data": {
      "image/png": "[encoded data removed]",
      "text/plain": [
       "<Figure size 432x288 with 6 Axes>"
      ]
     },
     "metadata": {
      "needs_background": "light"
     },
     "output_type": "display_data"
    }
   ],
   "source": [
    "# hyperparameters\n",
    "inp_size  = 784 # 28x28\n",
    "hid_size  = 100\n",
    "num_class = 10\n",
    "num_epoch = 2\n",
    "batch_size= 100\n",
    "learn_rate= 0.001\n",
    "\n",
    "# MNIST\n",
    "train_dataset = torchvision.datasets.MNIST(\n",
    "    root=\"./data\",\n",
    "    train=True,\n",
    "    transform=transforms.ToTensor(),\n",
    "    download=True\n",
    ")\n",
    "test_dataset = torchvision.datasets.MNIST(\n",
    "    root=\"./data\",\n",
    "    train=False,\n",
    "    transform=transforms.ToTensor(),\n",
    "    download=True\n",
    ")\n",
    "\n",
    "train_loader = torch.utils.data.DataLoader(\n",
    "    dataset=train_dataset,\n",
    "    batch_size=batch_size,\n",
    "    shuffle=True\n",
    ")\n",
    "\n",
    "test_loader = torch.utils.data.DataLoader(\n",
    "    dataset=test_dataset,\n",
    "    batch_size=batch_size,\n",
    "    shuffle=False\n",
    ")\n",
    "\n",
    "examples = iter(train_loader)\n",
    "samples, labels = examples.next()\n",
    "print(samples.shape, labels.shape)\n",
    "\n",
    "for i in range(6):\n",
    "    plt.subplot(2, 3, i+1)\n",
    "    plt.imshow(samples[i][0], cmap='gray')\n",
    "# plt.show()\n",
    "\n",
    "class NeuralNet(nn.Module):\n",
    "    def __init__(self, inp_size, hid_size, num_class):\n",
    "        super(NeuralNet, self).__init__()\n",
    "        self.l1 = nn.Linear(inp_size, hid_size)\n",
    "        self.relu = nn.ReLU()\n",
    "        self.l2 = nn.Linear(hid_size, num_class)\n",
    "\n",
    "    def forward(self, x):\n",
    "        out1 = self.l1(x)\n",
    "        out2 = self.relu(out1)\n",
    "        out3 = self.l2(out2)\n",
    "        \n",
    "        return out3\n",
    "\n",
    "model = NeuralNet(inp_size, hid_size, num_class)\n",
    "crit  = nn.CrossEntropyLoss()\n",
    "\n",
    "opt   = torch.optim.Adam(model.parameters(), lr=learn_rate)\n",
    "\n",
    "# training loop\n",
    "n_tot_step = len(train_loader)\n",
    "for epoch in range(num_epoch):\n",
    "    for i, (images, labels) in enumerate(train_loader):\n",
    "        images = images.reshape(-1, 28*28).to(device)\n",
    "        labels = labels.to(device)\n",
    "\n",
    "        # forward \n",
    "        outputs = model(images)\n",
    "        loss = crit(outputs, labels)\n",
    "                \n",
    "        # backward\n",
    "        opt.zero_grad()\n",
    "        loss.backward()\n",
    "        opt.step()\n",
    "\n",
    "        if (i+1)%100 == 0:\n",
    "            print(f'epoch_{epoch+1}/{num_epoch}, step={i+1}/{n_tot_step}, loss={loss.item():.4f}')\n",
    "\n",
    "# testing\n",
    "with torch.no_grad():\n",
    "    n_correct = 0\n",
    "    n_samples = 0\n",
    "    for images, labels in test_loader:\n",
    "        images = images.reshape(-1, 28*28).to(device)\n",
    "        labels = labels.to(device)\n",
    "        output = model(images)\n",
    "        \n",
    "        _, predictions = torch.max(output, 1)\n",
    "        n_samples += labels.shape[0]\n",
    "        n_correct += (predictions == labels).sum().item()\n",
    "\n",
    "    acc = 100.0 * n_correct / n_samples\n",
    "    print(f\"acc = {acc}%\")\n",
    "\n",
    "\n"
   ]
  }
 ],
 "metadata": {
  "kernelspec": {
   "display_name": "Python 3.10.6 ('virtEnv')",
   "language": "python",
   "name": "python3"
  },
  "language_info": {
   "codemirror_mode": {
    "name": "ipython",
    "version": 3
   },
   "file_extension": ".py",
   "mimetype": "text/x-python",
   "name": "python",
   "nbconvert_exporter": "python",
   "pygments_lexer": "ipython3",
   "version": "3.10.6"
  },
  "orig_nbformat": 4,
  "vscode": {
   "interpreter": {
    "hash": "ec3550846fa9df7f80b88a79e83660ed89c8dfc2710c5dade5982b58967286d9"
   }
  }
 },
 "nbformat": 4,
 "nbformat_minor": 2
}
