{
 "cells": [
  {
   "cell_type": "markdown",
   "metadata": {},
   "source": [
    "```cmd\n",
    "pip install tensorboard\n",
    "tensorboard --logdir=runs\n",
    "\n",
    "```"
   ]
  },
  {
   "cell_type": "code",
   "execution_count": null,
   "metadata": {},
   "outputs": [],
   "source": []
  }
 ],
 "metadata": {
  "kernelspec": {
   "display_name": "Python 3.10.5 64-bit",
   "language": "python",
   "name": "python3"
  },
  "language_info": {
   "name": "python",
   "version": "3.10.5"
  },
  "orig_nbformat": 4,
  "vscode": {
   "interpreter": {
    "hash": "cdb4adda1a354ad589399461b1e16930b5d0a64f1e509ad66a9bdca74cf1ed69"
   }
  }
 },
 "nbformat": 4,
 "nbformat_minor": 2
}
