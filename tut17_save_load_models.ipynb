{
 "cells": [
  {
   "cell_type": "code",
   "execution_count": 1,
   "metadata": {},
   "outputs": [],
   "source": [
    "import torch\n",
    "import torch.nn as nn"
   ]
  },
  {
   "cell_type": "code",
   "execution_count": 7,
   "metadata": {},
   "outputs": [
    {
     "name": "stdout",
     "output_type": "stream",
     "text": [
      "Parameter containing:\n",
      "tensor([[-0.3065,  0.0649,  0.1454,  0.3458, -0.1490, -0.2314]],\n",
      "       requires_grad=True)\n",
      "Parameter containing:\n",
      "tensor([-0.2677], requires_grad=True)\n",
      "Parameter containing:\n",
      "tensor([[-0.3065,  0.0649,  0.1454,  0.3458, -0.1490, -0.2314]],\n",
      "       requires_grad=True)\n",
      "Parameter containing:\n",
      "tensor([-0.2677], requires_grad=True)\n"
     ]
    }
   ],
   "source": [
    "class Model(nn.Module):\n",
    "    def __init__(self, n_inp_feat):\n",
    "        super(Model, self).__init__()\n",
    "        self.linear = nn.Linear(n_inp_feat, 1)\n",
    "\n",
    "    def forward(self, x):\n",
    "        y_pred = torch.sigmoid(self.linear(x))\n",
    "        return y_pred\n",
    "\n",
    "\n",
    "model = Model(n_inp_feat=6)\n",
    "for param in model.parameters():\n",
    "    print(param)\n",
    "# train your model ...\n",
    "\n",
    "## Saving the model ##\n",
    "# method 1 #\n",
    "# FILE = \"model.pth\"\n",
    "# torch.save(model, FILE)\n",
    "\n",
    "# model_load = torch.load(FILE)\n",
    "# model_load.eval()\n",
    "\n",
    "# for param in model_load.parameters():\n",
    "#     print(param)\n",
    "\n",
    "\n",
    "# method 2 - recommended #\n",
    "FILE = \"model_2.pth\"\n",
    "torch.save(model.state_dict(), FILE)\n",
    "\n",
    "model_load = Model(n_inp_feat=6)\n",
    "model_load.load_state_dict(torch.load(FILE))\n",
    "model_load.eval()\n",
    "\n",
    "for param in model_load.parameters():\n",
    "    print(param)\n"
   ]
  },
  {
   "cell_type": "code",
   "execution_count": 4,
   "metadata": {},
   "outputs": [
    {
     "name": "stdout",
     "output_type": "stream",
     "text": [
      "Parameter containing:\n",
      "tensor([[-0.1747,  0.2953, -0.0830,  0.0522,  0.0759,  0.1127]],\n",
      "       requires_grad=True)\n",
      "Parameter containing:\n",
      "tensor([-0.2670], requires_grad=True)\n"
     ]
    }
   ],
   "source": []
  }
 ],
 "metadata": {
  "kernelspec": {
   "display_name": "Python 3.10.6 ('virtEnv')",
   "language": "python",
   "name": "python3"
  },
  "language_info": {
   "codemirror_mode": {
    "name": "ipython",
    "version": 3
   },
   "file_extension": ".py",
   "mimetype": "text/x-python",
   "name": "python",
   "nbconvert_exporter": "python",
   "pygments_lexer": "ipython3",
   "version": "3.10.6"
  },
  "orig_nbformat": 4,
  "vscode": {
   "interpreter": {
    "hash": "ec3550846fa9df7f80b88a79e83660ed89c8dfc2710c5dade5982b58967286d9"
   }
  }
 },
 "nbformat": 4,
 "nbformat_minor": 2
}
